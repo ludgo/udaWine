{
 "cells": [
  {
   "cell_type": "markdown",
   "metadata": {},
   "source": [
    "## Let's get started"
   ]
  },
  {
   "cell_type": "code",
   "execution_count": 1,
   "metadata": {
    "collapsed": true
   },
   "outputs": [],
   "source": [
    "from pprint import pprint"
   ]
  },
  {
   "cell_type": "markdown",
   "metadata": {},
   "source": [
    "Import neccessary python libraries for working with data and statistics"
   ]
  },
  {
   "cell_type": "code",
   "execution_count": null,
   "metadata": {
    "collapsed": true
   },
   "outputs": [],
   "source": [
    "%matplotlib inline\n",
    "from matplotlib import pyplot as plt\n",
    "import matplotlib\n",
    "matplotlib.style.use('ggplot')\n",
    "\n",
    "import numpy as np\n",
    "import pandas as pd\n",
    "from scipy import stats as st\n",
    "#import seaborn as sns"
   ]
  },
  {
   "cell_type": "markdown",
   "metadata": {},
   "source": [
    "Load datasets"
   ]
  },
  {
   "cell_type": "code",
   "execution_count": null,
   "metadata": {
    "collapsed": true
   },
   "outputs": [],
   "source": [
    "reds = pd.read_csv('./data/wineQualityReds.csv', index_col=0)\n",
    "whites = pd.read_csv('./data/wineQualityWhites.csv', index_col=0)"
   ]
  },
  {
   "cell_type": "markdown",
   "metadata": {},
   "source": [
    "Description of the data can be found [here](https://github.com/ludgo/udaWine/blob/master/data/Redirecting.txt). We are particularly interested in column decriptions:\n",
    "\n",
    "Input variables (based on physicochemical tests):\n",
    "   1. fixed acidity (tartaric acid - g / dm^3)\n",
    "   2. volatile acidity (acetic acid - g / dm^3)\n",
    "   3. citric acid (g / dm^3)\n",
    "   4. residual sugar (g / dm^3)\n",
    "   5. chlorides (sodium chloride - g / dm^3\n",
    "   6. free sulfur dioxide (mg / dm^3)\n",
    "   7. total sulfur dioxide (mg / dm^3)\n",
    "   8. density (g / cm^3)\n",
    "   9. pH\n",
    "   10. sulphates (potassium sulphate - g / dm3)\n",
    "   11. alcohol (% by volume)\n",
    "Output variable (based on sensory data): \n",
    "   12. quality (score between 0 and 10)\n",
    "\n",
    "To get intuition about data available, we look at some examples"
   ]
  },
  {
   "cell_type": "code",
   "execution_count": null,
   "metadata": {
    "collapsed": false
   },
   "outputs": [],
   "source": [
    "redsSnippet = reds.head()\n",
    "whitesSnippet = whites.head()\n",
    "\n",
    "print('Red wines')\n",
    "print(redsSnippet)\n",
    "print()\n",
    "print('White wines')\n",
    "print(whitesSnippet)"
   ]
  },
  {
   "cell_type": "markdown",
   "metadata": {},
   "source": [
    "We possess information that both datasets are polished and contain same parameters. That's why we can also join them. Notice that the number of white wines is disproportional to the number of red wines"
   ]
  },
  {
   "cell_type": "code",
   "execution_count": 153,
   "metadata": {
    "collapsed": false
   },
   "outputs": [],
   "source": [
    "wines = pd.concat([reds,whites], ignore_index=True)\n",
    "wines.to_csv('./data/wineQuality.csv')"
   ]
  },
  {
   "cell_type": "markdown",
   "metadata": {},
   "source": [
    "## Basic statistics"
   ]
  },
  {
   "cell_type": "markdown",
   "metadata": {},
   "source": [
    "We choose the quality column of integers. Then we can perform basic statistic operations"
   ]
  },
  {
   "cell_type": "code",
   "execution_count": 154,
   "metadata": {
    "collapsed": false
   },
   "outputs": [
    {
     "name": "stdout",
     "output_type": "stream",
     "text": [
      "Wine quality\n",
      "\n",
      "Worst: 3\n",
      "Best: 9\n",
      "Average: 5.818377712790519\n",
      "Middle: 6.0\n",
      "Most frequent: [6]\n"
     ]
    }
   ],
   "source": [
    "print('Wine quality')\n",
    "print()\n",
    "\n",
    "minimum = wines['quality'].min()\n",
    "print('Worst: {}'.format(minimum))\n",
    "\n",
    "maximum = wines['quality'].max()\n",
    "print('Best: {}'.format(maximum))\n",
    "\n",
    "mean = wines['quality'].mean()\n",
    "print('Average: {}'.format(mean))\n",
    "\n",
    "median = wines['quality'].median()\n",
    "print('Middle: {}'.format(median))\n",
    "\n",
    "mode = wines['quality'].mode()\n",
    "print('Most frequent: {}'.format(mode.values))"
   ]
  },
  {
   "cell_type": "markdown",
   "metadata": {},
   "source": [
    "We could continue, looking at concrete quartiles etc. ... However there is a built-in pandas' function to help us"
   ]
  },
  {
   "cell_type": "code",
   "execution_count": 155,
   "metadata": {
    "collapsed": false
   },
   "outputs": [
    {
     "name": "stdout",
     "output_type": "stream",
     "text": [
      "All wines\n",
      "       fixed.acidity  volatile.acidity  citric.acid  residual.sugar  \\\n",
      "count    6497.000000       6497.000000  6497.000000     6497.000000   \n",
      "mean        7.215307          0.339666     0.318633        5.443235   \n",
      "std         1.296434          0.164636     0.145318        4.757804   \n",
      "min         3.800000          0.080000     0.000000        0.600000   \n",
      "25%         6.400000          0.230000     0.250000        1.800000   \n",
      "50%         7.000000          0.290000     0.310000        3.000000   \n",
      "75%         7.700000          0.400000     0.390000        8.100000   \n",
      "max        15.900000          1.580000     1.660000       65.800000   \n",
      "\n",
      "         chlorides  free.sulfur.dioxide  total.sulfur.dioxide      density  \\\n",
      "count  6497.000000          6497.000000           6497.000000  6497.000000   \n",
      "mean      0.056034            30.525319            115.744574     0.994697   \n",
      "std       0.035034            17.749400             56.521855     0.002999   \n",
      "min       0.009000             1.000000              6.000000     0.987110   \n",
      "25%       0.038000            17.000000             77.000000     0.992340   \n",
      "50%       0.047000            29.000000            118.000000     0.994890   \n",
      "75%       0.065000            41.000000            156.000000     0.996990   \n",
      "max       0.611000           289.000000            440.000000     1.038980   \n",
      "\n",
      "                pH    sulphates      alcohol      quality  \n",
      "count  6497.000000  6497.000000  6497.000000  6497.000000  \n",
      "mean      3.218501     0.531268    10.491801     5.818378  \n",
      "std       0.160787     0.148806     1.192712     0.873255  \n",
      "min       2.720000     0.220000     8.000000     3.000000  \n",
      "25%       3.110000     0.430000     9.500000     5.000000  \n",
      "50%       3.210000     0.510000    10.300000     6.000000  \n",
      "75%       3.320000     0.600000    11.300000     6.000000  \n",
      "max       4.010000     2.000000    14.900000     9.000000  \n"
     ]
    }
   ],
   "source": [
    "print('All wines')\n",
    "print(wines.describe())"
   ]
  },
  {
   "cell_type": "markdown",
   "metadata": {},
   "source": [
    "## Normal distribution"
   ]
  },
  {
   "cell_type": "markdown",
   "metadata": {},
   "source": [
    "Following part works with red wines only.\n",
    "\n",
    "We have alredy seen an example of sample standard deviation before. Now we continue with density"
   ]
  },
  {
   "cell_type": "code",
   "execution_count": 156,
   "metadata": {
    "collapsed": false
   },
   "outputs": [
    {
     "name": "stdout",
     "output_type": "stream",
     "text": [
      "0.0018873339538425563\n"
     ]
    }
   ],
   "source": [
    "std = reds['density'].std()\n",
    "print(std)"
   ]
  },
  {
   "cell_type": "markdown",
   "metadata": {},
   "source": [
    "Imagine that the wines taking part at the competition would be all existing wines in the world. Thus they would be the entire population and we could calculate population standard deviation"
   ]
  },
  {
   "cell_type": "code",
   "execution_count": 157,
   "metadata": {
    "collapsed": false
   },
   "outputs": [
    {
     "name": "stdout",
     "output_type": "stream",
     "text": [
      "0.0018867437008323923\n"
     ]
    }
   ],
   "source": [
    "popstd = reds['density'].std(ddof=0)\n",
    "print(popstd)"
   ]
  },
  {
   "cell_type": "markdown",
   "metadata": {},
   "source": [
    "This is certainly not true because we know that we did not collected all wines from all over the world. As often, visualization might be helpful. We have about 1600 red wines so that **sqrt(1600) = 40** will be number of bins"
   ]
  },
  {
   "cell_type": "code",
   "execution_count": 158,
   "metadata": {
    "collapsed": false
   },
   "outputs": [
    {
     "data": {
      "text/plain": [
       "(array([   3.,    2.,    2.,    1.,    7.,    4.,    9.,    7.,    8.,\n",
       "          23.,   33.,   26.,   33.,   50.,   69.,   98.,  102.,  101.,\n",
       "         146.,  138.,  142.,  110.,  110.,   86.,   45.,   63.,   33.,\n",
       "          44.,   23.,   31.,   17.,    3.,    6.,    8.,    1.,    4.,\n",
       "           4.,    1.,    4.,    2.]),\n",
       " array([ 0.99007  ,  0.9904105,  0.990751 ,  0.9910915,  0.991432 ,\n",
       "         0.9917725,  0.992113 ,  0.9924535,  0.992794 ,  0.9931345,\n",
       "         0.993475 ,  0.9938155,  0.994156 ,  0.9944965,  0.994837 ,\n",
       "         0.9951775,  0.995518 ,  0.9958585,  0.996199 ,  0.9965395,\n",
       "         0.99688  ,  0.9972205,  0.997561 ,  0.9979015,  0.998242 ,\n",
       "         0.9985825,  0.998923 ,  0.9992635,  0.999604 ,  0.9999445,\n",
       "         1.000285 ,  1.0006255,  1.000966 ,  1.0013065,  1.001647 ,\n",
       "         1.0019875,  1.002328 ,  1.0026685,  1.003009 ,  1.0033495,  1.00369  ]),\n",
       " <a list of 40 Patch objects>)"
      ]
     },
     "execution_count": 158,
     "metadata": {},
     "output_type": "execute_result"
    },
    {
     "data": {
      "image/png": "[encoded data removed]",
      "text/plain": [
       "<matplotlib.figure.Figure at 0x2196f1bdf98>"
      ]
     },
     "metadata": {},
     "output_type": "display_data"
    }
   ],
   "source": [
    "plt.hist(reds['density'], bins=40)"
   ]
  },
  {
   "cell_type": "markdown",
   "metadata": {},
   "source": [
    "Seems that the density falls into normal distrubution. If we calculate z-scores for values we can model standard normal distribution and plot is as follows"
   ]
  },
  {
   "cell_type": "code",
   "execution_count": 159,
   "metadata": {
    "collapsed": false
   },
   "outputs": [
    {
     "data": {
      "text/plain": [
       "(array([ 0.01039606,  0.0069307 ,  0.0069307 ,  0.00346535,  0.02425746,\n",
       "         0.01386141,  0.03118817,  0.02425746,  0.02772281,  0.07970309,\n",
       "         0.11435661,  0.09009915,  0.11435661,  0.17326759,  0.23910927,\n",
       "         0.33960448,  0.35346588,  0.35000053,  0.50594136,  0.47821855,\n",
       "         0.49207995,  0.3811887 ,  0.3811887 ,  0.29802025,  0.15594083,\n",
       "         0.21831716,  0.11435661,  0.15247548,  0.07970309,  0.10742591,\n",
       "         0.05891098,  0.01039606,  0.02079211,  0.02772281,  0.00346535,\n",
       "         0.01386141,  0.01386141,  0.00346535,  0.01386141,  0.0069307 ]),\n",
       " array([-3.5387314 , -3.35826174, -3.17779207, -2.99732241, -2.81685275,\n",
       "        -2.63638308, -2.45591342, -2.27544376, -2.09497409, -1.91450443,\n",
       "        -1.73403477, -1.5535651 , -1.37309544, -1.19262578, -1.01215612,\n",
       "        -0.83168645, -0.65121679, -0.47074713, -0.29027746, -0.1098078 ,\n",
       "         0.07066186,  0.25113153,  0.43160119,  0.61207085,  0.79254052,\n",
       "         0.97301018,  1.15347984,  1.3339495 ,  1.51441917,  1.69488883,\n",
       "         1.87535849,  2.05582816,  2.23629782,  2.41676748,  2.59723715,\n",
       "         2.77770681,  2.95817647,  3.13864614,  3.3191158 ,  3.49958546,\n",
       "         3.68005512]),\n",
       " <a list of 40 Patch objects>)"
      ]
     },
     "execution_count": 159,
     "metadata": {},
     "output_type": "execute_result"
    },
    {
     "data": {
      "image/png": "[encoded data removed]",
      "text/plain": [
       "<matplotlib.figure.Figure at 0x2196f378a58>"
      ]
     },
     "metadata": {},
     "output_type": "display_data"
    }
   ],
   "source": [
    "normDensity = st.zscore(reds['density'])\n",
    "plt.hist(normDensity, bins=40, normed=1)"
   ]
  },
  {
   "cell_type": "markdown",
   "metadata": {},
   "source": [
    "Ok. If density does really copy normal distribution, we can ask different questions"
   ]
  },
  {
   "cell_type": "code",
   "execution_count": 172,
   "metadata": {
    "collapsed": false
   },
   "outputs": [
    {
     "name": "stdout",
     "output_type": "stream",
     "text": [
      "How many red wines at competition are at top 20% ?\n",
      "277\n",
      "How many red wines at competition are at top 10% ?\n",
      "158\n",
      "How many red wines at competition are at top 5% ?\n",
      "82\n",
      "How many red wines at competition are at top 1% ?\n",
      "24\n"
     ]
    }
   ],
   "source": [
    "for i in [.8, .9, .95, .99]:\n",
    "    print('How many red wines at competition are at top {}% ?'.format(100-int(100*i)))\n",
    "    pvalue = st.norm.ppf(i)\n",
    "    print(len(normDensity[normDensity > pvalue]))"
   ]
  },
  {
   "cell_type": "markdown",
   "metadata": {},
   "source": [
    "## Z - test"
   ]
  },
  {
   "cell_type": "code",
   "execution_count": null,
   "metadata": {
    "collapsed": true
   },
   "outputs": [],
   "source": []
  }
 ],
 "metadata": {
  "kernelspec": {
   "display_name": "Python 3",
   "language": "python",
   "name": "python3"
  },
  "language_info": {
   "codemirror_mode": {
    "name": "ipython",
    "version": 3
   },
   "file_extension": ".py",
   "mimetype": "text/x-python",
   "name": "python",
   "nbconvert_exporter": "python",
   "pygments_lexer": "ipython3",
   "version": "3.6.0"
  }
 },
 "nbformat": 4,
 "nbformat_minor": 2
}
