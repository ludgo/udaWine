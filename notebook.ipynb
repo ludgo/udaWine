{
 "cells": [
  {
   "cell_type": "markdown",
   "metadata": {},
   "source": [
    "## Let's get started"
   ]
  },
  {
   "cell_type": "code",
   "execution_count": 215,
   "metadata": {
    "collapsed": true
   },
   "outputs": [],
   "source": [
    "from pprint import pprint"
   ]
  },
  {
   "cell_type": "markdown",
   "metadata": {},
   "source": [
    "Import neccessary python libraries for working with data and statistics"
   ]
  },
  {
   "cell_type": "code",
   "execution_count": 216,
   "metadata": {
    "collapsed": true
   },
   "outputs": [],
   "source": [
    "%matplotlib inline\n",
    "from matplotlib import pyplot as plt\n",
    "import matplotlib\n",
    "matplotlib.style.use('ggplot')\n",
    "\n",
    "import numpy as np\n",
    "import pandas as pd\n",
    "from scipy import stats as st\n",
    "#import seaborn as sns\n",
    "from sklearn.utils import shuffle"
   ]
  },
  {
   "cell_type": "markdown",
   "metadata": {},
   "source": [
    "Load datasets"
   ]
  },
  {
   "cell_type": "code",
   "execution_count": 217,
   "metadata": {
    "collapsed": true
   },
   "outputs": [],
   "source": [
    "reds = pd.read_csv('./data/wineQualityReds.csv', index_col=0)\n",
    "whites = pd.read_csv('./data/wineQualityWhites.csv', index_col=0)"
   ]
  },
  {
   "cell_type": "markdown",
   "metadata": {},
   "source": [
    "Description of the data can be found [here](https://github.com/ludgo/udaWine/blob/master/data/Redirecting.txt). We are particularly interested in column decriptions:\n",
    "\n",
    "Input variables (based on physicochemical tests):\n",
    "   1. fixed acidity (tartaric acid - g / dm^3)\n",
    "   2. volatile acidity (acetic acid - g / dm^3)\n",
    "   3. citric acid (g / dm^3)\n",
    "   4. residual sugar (g / dm^3)\n",
    "   5. chlorides (sodium chloride - g / dm^3\n",
    "   6. free sulfur dioxide (mg / dm^3)\n",
    "   7. total sulfur dioxide (mg / dm^3)\n",
    "   8. density (g / cm^3)\n",
    "   9. pH\n",
    "   10. sulphates (potassium sulphate - g / dm3)\n",
    "   11. alcohol (% by volume)\n",
    "Output variable (based on sensory data): \n",
    "   12. quality (score between 0 and 10)\n",
    "\n",
    "To get intuition about data available, we look at some examples"
   ]
  },
  {
   "cell_type": "code",
   "execution_count": 218,
   "metadata": {
    "collapsed": false
   },
   "outputs": [
    {
     "name": "stdout",
     "output_type": "stream",
     "text": [
      "Red wines\n",
      "   fixed.acidity  volatile.acidity  citric.acid  residual.sugar  chlorides  \\\n",
      "1            7.4              0.70         0.00             1.9      0.076   \n",
      "2            7.8              0.88         0.00             2.6      0.098   \n",
      "3            7.8              0.76         0.04             2.3      0.092   \n",
      "4           11.2              0.28         0.56             1.9      0.075   \n",
      "5            7.4              0.70         0.00             1.9      0.076   \n",
      "\n",
      "   free.sulfur.dioxide  total.sulfur.dioxide  density    pH  sulphates  \\\n",
      "1                 11.0                  34.0   0.9978  3.51       0.56   \n",
      "2                 25.0                  67.0   0.9968  3.20       0.68   \n",
      "3                 15.0                  54.0   0.9970  3.26       0.65   \n",
      "4                 17.0                  60.0   0.9980  3.16       0.58   \n",
      "5                 11.0                  34.0   0.9978  3.51       0.56   \n",
      "\n",
      "   alcohol  quality  \n",
      "1      9.4        5  \n",
      "2      9.8        5  \n",
      "3      9.8        5  \n",
      "4      9.8        6  \n",
      "5      9.4        5  \n",
      "\n",
      "White wines\n",
      "   fixed.acidity  volatile.acidity  citric.acid  residual.sugar  chlorides  \\\n",
      "1            7.0              0.27         0.36            20.7      0.045   \n",
      "2            6.3              0.30         0.34             1.6      0.049   \n",
      "3            8.1              0.28         0.40             6.9      0.050   \n",
      "4            7.2              0.23         0.32             8.5      0.058   \n",
      "5            7.2              0.23         0.32             8.5      0.058   \n",
      "\n",
      "   free.sulfur.dioxide  total.sulfur.dioxide  density    pH  sulphates  \\\n",
      "1                 45.0                 170.0   1.0010  3.00       0.45   \n",
      "2                 14.0                 132.0   0.9940  3.30       0.49   \n",
      "3                 30.0                  97.0   0.9951  3.26       0.44   \n",
      "4                 47.0                 186.0   0.9956  3.19       0.40   \n",
      "5                 47.0                 186.0   0.9956  3.19       0.40   \n",
      "\n",
      "   alcohol  quality  \n",
      "1      8.8        6  \n",
      "2      9.5        6  \n",
      "3     10.1        6  \n",
      "4      9.9        6  \n",
      "5      9.9        6  \n"
     ]
    }
   ],
   "source": [
    "redsSnippet = reds.head()\n",
    "whitesSnippet = whites.head()\n",
    "\n",
    "print('Red wines')\n",
    "print(redsSnippet)\n",
    "print()\n",
    "print('White wines')\n",
    "print(whitesSnippet)"
   ]
  },
  {
   "cell_type": "markdown",
   "metadata": {},
   "source": [
    "We possess information that both datasets are polished and contain same parameters. That's why we can also join them. Notice that the number of white wines is disproportional to the number of red wines"
   ]
  },
  {
   "cell_type": "code",
   "execution_count": 219,
   "metadata": {
    "collapsed": false
   },
   "outputs": [
    {
     "name": "stdout",
     "output_type": "stream",
     "text": [
      "   fixed.acidity  volatile.acidity  citric.acid  residual.sugar  chlorides  \\\n",
      "0            7.4              0.70         0.00             1.9      0.076   \n",
      "1            7.8              0.88         0.00             2.6      0.098   \n",
      "2            7.8              0.76         0.04             2.3      0.092   \n",
      "3           11.2              0.28         0.56             1.9      0.075   \n",
      "4            7.4              0.70         0.00             1.9      0.076   \n",
      "\n",
      "   free.sulfur.dioxide  total.sulfur.dioxide  density    pH  sulphates  \\\n",
      "0                 11.0                  34.0   0.9978  3.51       0.56   \n",
      "1                 25.0                  67.0   0.9968  3.20       0.68   \n",
      "2                 15.0                  54.0   0.9970  3.26       0.65   \n",
      "3                 17.0                  60.0   0.9980  3.16       0.58   \n",
      "4                 11.0                  34.0   0.9978  3.51       0.56   \n",
      "\n",
      "   alcohol  quality  \n",
      "0      9.4        5  \n",
      "1      9.8        5  \n",
      "2      9.8        5  \n",
      "3      9.8        6  \n",
      "4      9.4        5  \n"
     ]
    }
   ],
   "source": [
    "wines = pd.concat([reds,whites], ignore_index=True)\n",
    "print(wines.head())\n",
    "wines.to_csv('./data/wineQuality.csv')"
   ]
  },
  {
   "cell_type": "markdown",
   "metadata": {},
   "source": [
    "## Basic statistics"
   ]
  },
  {
   "cell_type": "markdown",
   "metadata": {},
   "source": [
    "We choose the quality column of integers. Then we can perform basic statistic operations"
   ]
  },
  {
   "cell_type": "code",
   "execution_count": 220,
   "metadata": {
    "collapsed": false
   },
   "outputs": [
    {
     "name": "stdout",
     "output_type": "stream",
     "text": [
      "Wine quality\n",
      "\n",
      "Worst: 3\n",
      "Best: 9\n",
      "Average: 5.818377712790519\n",
      "Middle: 6.0\n",
      "Most frequent: [6]\n"
     ]
    }
   ],
   "source": [
    "quality = shuffle(wines['quality'].copy()).reset_index(drop=True)\n",
    "\n",
    "print('Wine quality')\n",
    "print()\n",
    "\n",
    "minimum = quality.min()\n",
    "print('Worst: {}'.format(minimum))\n",
    "\n",
    "maximum = quality.max()\n",
    "print('Best: {}'.format(maximum))\n",
    "\n",
    "mean = quality.mean()\n",
    "print('Average: {}'.format(mean))\n",
    "\n",
    "median = quality.median()\n",
    "print('Middle: {}'.format(median))\n",
    "\n",
    "mode = quality.mode()\n",
    "print('Most frequent: {}'.format(mode.values))"
   ]
  },
  {
   "cell_type": "markdown",
   "metadata": {},
   "source": [
    "We could continue, looking at concrete quartiles etc. ... However there is a built-in pandas' function to help us"
   ]
  },
  {
   "cell_type": "code",
   "execution_count": 221,
   "metadata": {
    "collapsed": false
   },
   "outputs": [
    {
     "name": "stdout",
     "output_type": "stream",
     "text": [
      "All wines\n",
      "       fixed.acidity  volatile.acidity  citric.acid  residual.sugar  \\\n",
      "count    6497.000000       6497.000000  6497.000000     6497.000000   \n",
      "mean        7.215307          0.339666     0.318633        5.443235   \n",
      "std         1.296434          0.164636     0.145318        4.757804   \n",
      "min         3.800000          0.080000     0.000000        0.600000   \n",
      "25%         6.400000          0.230000     0.250000        1.800000   \n",
      "50%         7.000000          0.290000     0.310000        3.000000   \n",
      "75%         7.700000          0.400000     0.390000        8.100000   \n",
      "max        15.900000          1.580000     1.660000       65.800000   \n",
      "\n",
      "         chlorides  free.sulfur.dioxide  total.sulfur.dioxide      density  \\\n",
      "count  6497.000000          6497.000000           6497.000000  6497.000000   \n",
      "mean      0.056034            30.525319            115.744574     0.994697   \n",
      "std       0.035034            17.749400             56.521855     0.002999   \n",
      "min       0.009000             1.000000              6.000000     0.987110   \n",
      "25%       0.038000            17.000000             77.000000     0.992340   \n",
      "50%       0.047000            29.000000            118.000000     0.994890   \n",
      "75%       0.065000            41.000000            156.000000     0.996990   \n",
      "max       0.611000           289.000000            440.000000     1.038980   \n",
      "\n",
      "                pH    sulphates      alcohol      quality  \n",
      "count  6497.000000  6497.000000  6497.000000  6497.000000  \n",
      "mean      3.218501     0.531268    10.491801     5.818378  \n",
      "std       0.160787     0.148806     1.192712     0.873255  \n",
      "min       2.720000     0.220000     8.000000     3.000000  \n",
      "25%       3.110000     0.430000     9.500000     5.000000  \n",
      "50%       3.210000     0.510000    10.300000     6.000000  \n",
      "75%       3.320000     0.600000    11.300000     6.000000  \n",
      "max       4.010000     2.000000    14.900000     9.000000  \n"
     ]
    }
   ],
   "source": [
    "print('All wines')\n",
    "print(wines.describe())"
   ]
  },
  {
   "cell_type": "markdown",
   "metadata": {},
   "source": [
    "## Normal distribution"
   ]
  },
  {
   "cell_type": "markdown",
   "metadata": {},
   "source": [
    "Following part works with white wines only.\n",
    "\n",
    "We have alredy seen an example of sample standard deviation before. Now we continue with density"
   ]
  },
  {
   "cell_type": "code",
   "execution_count": 222,
   "metadata": {
    "collapsed": false
   },
   "outputs": [
    {
     "name": "stdout",
     "output_type": "stream",
     "text": [
      "0.0029909069169369376\n"
     ]
    }
   ],
   "source": [
    "density = shuffle(whites['density'].copy()).reset_index(drop=True)\n",
    "\n",
    "std = density.std()\n",
    "print(std)"
   ]
  },
  {
   "cell_type": "markdown",
   "metadata": {},
   "source": [
    "Imagine that the wines taking part at the competition would be all existing wines in the world. Thus they would be the entire population and we could calculate population standard deviation"
   ]
  },
  {
   "cell_type": "code",
   "execution_count": 223,
   "metadata": {
    "collapsed": false
   },
   "outputs": [
    {
     "name": "stdout",
     "output_type": "stream",
     "text": [
      "0.002990601582148032\n"
     ]
    }
   ],
   "source": [
    "popstd = density.std(ddof=0)\n",
    "print(popstd)"
   ]
  },
  {
   "cell_type": "markdown",
   "metadata": {},
   "source": [
    "This is certainly not neccessarily true because we know that we did not collected all wines from all over the world. As often, visualization might be helpful. We have about 4900 white wines so that approximately **sqrt(4900)** will be number of bins"
   ]
  },
  {
   "cell_type": "code",
   "execution_count": 224,
   "metadata": {
    "collapsed": false
   },
   "outputs": [
    {
     "name": "stdout",
     "output_type": "stream",
     "text": [
      "69 bins\n"
     ]
    },
    {
     "data": {
      "text/plain": [
       "(array([  11.,   20.,  119.,  252.,  339.,  411.,  462.,  482.,  425.,\n",
       "         402.,  348.,  411.,  261.,  266.,  283.,  196.,  106.,   79.,\n",
       "          14.,    4.,    2.,    2.,    0.,    0.,    0.,    0.,    0.,\n",
       "           0.,    0.,    0.,    2.,    0.,    0.,    0.,    0.,    0.,\n",
       "           0.,    0.,    0.,    0.,    0.,    0.,    0.,    0.,    0.,\n",
       "           0.,    0.,    0.,    0.,    0.,    0.,    0.,    0.,    0.,\n",
       "           0.,    0.,    0.,    0.,    0.,    0.,    0.,    0.,    0.,\n",
       "           0.,    0.,    0.,    0.,    0.,    1.]),\n",
       " array([ 0.98711   ,  0.98786174,  0.98861348,  0.98936522,  0.99011696,\n",
       "         0.9908687 ,  0.99162043,  0.99237217,  0.99312391,  0.99387565,\n",
       "         0.99462739,  0.99537913,  0.99613087,  0.99688261,  0.99763435,\n",
       "         0.99838609,  0.99913783,  0.99988957,  1.0006413 ,  1.00139304,\n",
       "         1.00214478,  1.00289652,  1.00364826,  1.0044    ,  1.00515174,\n",
       "         1.00590348,  1.00665522,  1.00740696,  1.0081587 ,  1.00891043,\n",
       "         1.00966217,  1.01041391,  1.01116565,  1.01191739,  1.01266913,\n",
       "         1.01342087,  1.01417261,  1.01492435,  1.01567609,  1.01642783,\n",
       "         1.01717957,  1.0179313 ,  1.01868304,  1.01943478,  1.02018652,\n",
       "         1.02093826,  1.02169   ,  1.02244174,  1.02319348,  1.02394522,\n",
       "         1.02469696,  1.0254487 ,  1.02620043,  1.02695217,  1.02770391,\n",
       "         1.02845565,  1.02920739,  1.02995913,  1.03071087,  1.03146261,\n",
       "         1.03221435,  1.03296609,  1.03371783,  1.03446957,  1.0352213 ,\n",
       "         1.03597304,  1.03672478,  1.03747652,  1.03822826,  1.03898   ]),\n",
       " <a list of 69 Patch objects>)"
      ]
     },
     "execution_count": 224,
     "metadata": {},
     "output_type": "execute_result"
    },
    {
     "data": {
      "image/png": "[encoded data removed]",
      "text/plain": [
       "<matplotlib.figure.Figure at 0x1e0f88b2390>"
      ]
     },
     "metadata": {},
     "output_type": "display_data"
    }
   ],
   "source": [
    "nbins = int(len(density)**0.5)\n",
    "print('{} bins'.format(nbins))\n",
    "plt.hist(density, bins=nbins)"
   ]
  },
  {
   "cell_type": "markdown",
   "metadata": {},
   "source": [
    "For simplicity we remove outliers"
   ]
  },
  {
   "cell_type": "code",
   "execution_count": 225,
   "metadata": {
    "collapsed": false
   },
   "outputs": [],
   "source": [
    "density = pd.Series(st.trimboth(density, proportiontocut=.01))"
   ]
  },
  {
   "cell_type": "markdown",
   "metadata": {},
   "source": [
    "Seems that the density may fall into normal distrubution. It would be strange just to say it is a normally distributed variable though. Fortunately, we know Central Limit Theorem which tells us that if we take same-sized samples, their means approximate normal distribution whether the population itself is normal or skewed"
   ]
  },
  {
   "cell_type": "code",
   "execution_count": 226,
   "metadata": {
    "collapsed": false
   },
   "outputs": [
    {
     "data": {
      "text/plain": [
       "(array([  1.,   1.,   7.,  19.,  26.,  27.,  12.,   7.]),\n",
       " array([ 0.99283078,  0.99306992,  0.99330906,  0.9935482 ,  0.99378734,\n",
       "         0.99402648,  0.99426562,  0.99450477,  0.99474391]),\n",
       " <a list of 8 Patch objects>)"
      ]
     },
     "execution_count": 226,
     "metadata": {},
     "output_type": "execute_result"
    },
    {
     "data": {
      "image/png": "[encoded data removed]",
      "text/plain": [
       "<matplotlib.figure.Figure at 0x1e0f8953d68>"
      ]
     },
     "metadata": {},
     "output_type": "display_data"
    }
   ],
   "source": [
    "samples = []\n",
    "samplesize = 64\n",
    "nbins = int(samplesize**0.5)\n",
    "\n",
    "for i in range(100):\n",
    "    samples.append(density.sample(samplesize).mean())\n",
    "samples = pd.Series(samples)\n",
    "plt.hist(samples, bins=nbins)"
   ]
  },
  {
   "cell_type": "markdown",
   "metadata": {},
   "source": [
    "We want to transfrom values to such a normal distribution that it has mean 0 and standard deviation 1. Initially, we need z-scores of the values. Z-score tells us how many standard deviations a value stands from the mean. We say we standardized the distribution. Plot is as follows"
   ]
  },
  {
   "cell_type": "code",
   "execution_count": 227,
   "metadata": {
    "collapsed": false
   },
   "outputs": [
    {
     "data": {
      "text/plain": [
       "(array([ 0.01396551,  0.01396551,  0.09775857,  0.2653447 ,  0.36310327,\n",
       "         0.37706878,  0.16758613,  0.09775857]),\n",
       " array([-3.45844767, -2.74239794, -2.02634821, -1.31029848, -0.59424876,\n",
       "         0.12180097,  0.8378507 ,  1.55390043,  2.26995015]),\n",
       " <a list of 8 Patch objects>)"
      ]
     },
     "execution_count": 227,
     "metadata": {},
     "output_type": "execute_result"
    },
    {
     "data": {
      "image/png": "[encoded data removed]",
      "text/plain": [
       "<matplotlib.figure.Figure at 0x1e0f894bbe0>"
      ]
     },
     "metadata": {},
     "output_type": "display_data"
    }
   ],
   "source": [
    "zscores = st.zscore(samples)\n",
    "plt.hist(zscores, bins=nbins, normed=1)"
   ]
  },
  {
   "cell_type": "markdown",
   "metadata": {},
   "source": [
    "Then population mean will be same as sample mean"
   ]
  },
  {
   "cell_type": "code",
   "execution_count": 228,
   "metadata": {
    "collapsed": false
   },
   "outputs": [
    {
     "name": "stdout",
     "output_type": "stream",
     "text": [
      "0.99398580625\n"
     ]
    }
   ],
   "source": [
    "mean = samples.mean()\n",
    "print(mean)"
   ]
  },
  {
   "cell_type": "markdown",
   "metadata": {},
   "source": [
    "... and population standard deviation can be obtained by next formula. We call sample standard deviation also standard error"
   ]
  },
  {
   "cell_type": "code",
   "execution_count": 229,
   "metadata": {
    "collapsed": false
   },
   "outputs": [
    {
     "name": "stdout",
     "output_type": "stream",
     "text": [
      "0.0033565458119062205\n"
     ]
    }
   ],
   "source": [
    "standardError = samples.std()\n",
    "popstd = standardError * len(samples)**0.5\n",
    "print(popstd)"
   ]
  },
  {
   "cell_type": "markdown",
   "metadata": {},
   "source": [
    "Ok. Something different again. If density does really copy normal distribution, we can ask different questions"
   ]
  },
  {
   "cell_type": "code",
   "execution_count": 230,
   "metadata": {
    "collapsed": false
   },
   "outputs": [
    {
     "name": "stdout",
     "output_type": "stream",
     "text": [
      "How many white wines at competition are at world top 20% ?\n",
      "1093\n",
      "How many white wines at competition are at world top 10% ?\n",
      "675\n",
      "How many white wines at competition are at world top 5% ?\n",
      "305\n",
      "How many white wines at competition are at world top 1% ?\n",
      "0\n"
     ]
    }
   ],
   "source": [
    "normDensity = st.zscore(density)\n",
    "\n",
    "for i in [.8, .9, .95, .99]:\n",
    "    print('How many white wines at competition are at world top {}% ?'.format(100-int(100*i)))\n",
    "    zcritical = st.norm.ppf(i)\n",
    "    print(len(normDensity[normDensity > zcritical]))"
   ]
  },
  {
   "cell_type": "markdown",
   "metadata": {},
   "source": [
    "## Z - test"
   ]
  },
  {
   "cell_type": "markdown",
   "metadata": {
    "collapsed": true
   },
   "source": [
    "In fact, dozens of competitions are held every wine season across many countries all over the world. From a huge ammount of data, which can be considered to be the world wine population, imagine we know average competition white wine density is characterized by mean and standard deviation. An expert comes, points the numbers out and claimes that the density at this competition was manipulated. He says somebody either poured water to increase wine density or added alcohol to decrease it, such that it influenced quality results.\n",
    "\n",
    "We can carry out two-tailed hypothesis testing to check it out. Now we consider all competition data to be a sample. Null hypothesis states expert's mean and competition's mean are equal, alternative hypothesis not equal."
   ]
  },
  {
   "cell_type": "code",
   "execution_count": 231,
   "metadata": {
    "collapsed": false
   },
   "outputs": [
    {
     "name": "stdout",
     "output_type": "stream",
     "text": [
      "Population mean: 0.995\n",
      "Population standard deviation: 0.002\n",
      "Sample mean: 0.9940043221574292\n",
      "Sample standard deviation: 0.002793556248393701 (We do not need this.)\n"
     ]
    }
   ],
   "source": [
    "popmean = .995\n",
    "print('Population mean: {}'.format(popmean))\n",
    "popstd = .002\n",
    "print('Population standard deviation: {}'.format(popstd))\n",
    "mean = density.mean()\n",
    "print('Sample mean: {}'.format(mean))\n",
    "std = density.std()\n",
    "print('Sample standard deviation: {} (We do not need this.)'.format(std))"
   ]
  },
  {
   "cell_type": "markdown",
   "metadata": {},
   "source": [
    "Then we test at different alpha levels"
   ]
  },
  {
   "cell_type": "code",
   "execution_count": 232,
   "metadata": {
    "collapsed": false
   },
   "outputs": [
    {
     "name": "stdout",
     "output_type": "stream",
     "text": [
      "Z-score: -0.4978389212854095\n",
      "The probability of null hypothesis is 61.86% so\n",
      "do not reject null hypothesis at 5.0% confidence interval.\n",
      "do not reject null hypothesis at 1.0% confidence interval.\n",
      "do not reject null hypothesis at 0.5% confidence interval.\n"
     ]
    }
   ],
   "source": [
    "zscore = (mean - popmean) / popstd\n",
    "print('Z-score: {}'.format(zscore))\n",
    "\n",
    "nulltrue = 2*st.norm.sf(abs(zscore))\n",
    "print('The probability of null hypothesis is {}% so'.format(round(100*nulltrue, 2)))\n",
    "\n",
    "for critical in [.05,.01,.005]:\n",
    "    if critical > nulltrue:\n",
    "        print('reject null hypothesis at {}% confidence interval.'.format(100*critical))\n",
    "    else:\n",
    "        print('do not reject null hypothesis at {}% confidence interval.'.format(100*critical))"
   ]
  },
  {
   "cell_type": "markdown",
   "metadata": {
    "collapsed": true
   },
   "source": [
    "Seems that 'the expert' was not right at all. However, do we know for sure that he was 100% wrong. No. What if he was right and we would rejected null hypothesis? We would show just that density at this competition was different from the usual one at chosen confidence interval. Another problem is that the change itself does not always imply manipulation. To get a bit more confused, we have even not proved that density influences somehow the quality of wine, so that competition could be manipulated in this way without influence on results. Statistics brings us quite complicated decision process and there is almost always something more to consider.\n",
    "\n",
    "Here I will try to summarize types of z-tests:\n",
    "\n",
    "- single value z-test:\n",
    "\n",
    "We compare a concrete value to the corresponding population parameter, namely for example mean, variance or proportion\n",
    "\n",
    "- difference value z-test:\n",
    "\n",
    "We compare a parameter between two populations, namely for example mean, variance or proportion"
   ]
  },
  {
   "cell_type": "markdown",
   "metadata": {},
   "source": [
    "## T - test"
   ]
  },
  {
   "cell_type": "markdown",
   "metadata": {},
   "source": [
    "We continue with red wines, specifically how much alcohol they contain.\n",
    "\n",
    "For purpose of this section we model only small competition with 20 wines participating in"
   ]
  },
  {
   "cell_type": "code",
   "execution_count": 246,
   "metadata": {
    "collapsed": false
   },
   "outputs": [
    {
     "name": "stdout",
     "output_type": "stream",
     "text": [
      "0     10.80\n",
      "1      9.80\n",
      "2     10.60\n",
      "3     11.00\n",
      "4     11.40\n",
      "5     11.30\n",
      "6     10.40\n",
      "7      9.30\n",
      "8      9.50\n",
      "9     10.40\n",
      "10     9.40\n",
      "11    10.80\n",
      "12    11.40\n",
      "13    10.50\n",
      "14     9.55\n",
      "15     9.90\n",
      "16    10.50\n",
      "17     9.70\n",
      "18     9.40\n",
      "19    10.20\n",
      "Name: alcohol, dtype: float64\n"
     ]
    }
   ],
   "source": [
    "alcohol = shuffle(reds['alcohol'].copy()).reset_index(drop=True)[:20]\n",
    "print(alcohol)"
   ]
  },
  {
   "cell_type": "markdown",
   "metadata": {},
   "source": [
    "Next, we are going to react to the suggestion that the competition was manipulated by systematically adding alcohol to wines, assuming known population mean at similar competitions.\n",
    "\n",
    "We perform one-tailed t-test. Null hypothesis states the percentage of alcohol is equal or less than at similar competitions, alternative hypothesis greater than"
   ]
  },
  {
   "cell_type": "code",
   "execution_count": 247,
   "metadata": {
    "collapsed": false
   },
   "outputs": [
    {
     "name": "stdout",
     "output_type": "stream",
     "text": [
      "Population mean: 10.0\n",
      "Population standard deviation: unknown\n",
      "Sample mean: 10.2925\n",
      "Sample standard deviation: 0.6959043718334021\n"
     ]
    }
   ],
   "source": [
    "popmean = 10.\n",
    "print('Population mean: {}'.format(popmean))\n",
    "print('Population standard deviation: unknown')\n",
    "mean = alcohol.mean()\n",
    "print('Sample mean: {}'.format(mean))\n",
    "std = alcohol.std()\n",
    "print('Sample standard deviation: {}'.format(std))"
   ]
  },
  {
   "cell_type": "markdown",
   "metadata": {},
   "source": [
    "Then we test at different alpha levels"
   ]
  },
  {
   "cell_type": "code",
   "execution_count": 248,
   "metadata": {
    "collapsed": false
   },
   "outputs": [
    {
     "name": "stdout",
     "output_type": "stream",
     "text": [
      "T-score: 1.8797119543754424\n",
      "The probability of null hypothesis is 3.78% so\n",
      "reject null hypothesis at 5.0% confidence interval.\n",
      "do not reject null hypothesis at 1.0% confidence interval.\n",
      "do not reject null hypothesis at 0.5% confidence interval.\n"
     ]
    }
   ],
   "source": [
    "#tscore = (mean - popmean) / std * len(alcohol)**0.5\n",
    "tscore, twosidedp = st.ttest_1samp(alcohol, popmean)\n",
    "print('T-score: {}'.format(tscore))\n",
    "\n",
    "nulltrue = twosidedp / 2\n",
    "print('The probability of null hypothesis is {}% so'.format(round(100*nulltrue, 2)))\n",
    "\n",
    "for critical in [.05,.01,.005]:\n",
    "    if critical > nulltrue:\n",
    "        print('reject null hypothesis at {}% confidence interval.'.format(100*critical))\n",
    "    else:\n",
    "        print('do not reject null hypothesis at {}% confidence interval.'.format(100*critical))"
   ]
  },
  {
   "cell_type": "markdown",
   "metadata": {},
   "source": [
    "Here I will try to summarize types of t-tests:\n",
    "\n",
    "- ONE sample t-test:\n",
    "\n",
    "We compare the mean of *single sample* to a concrete value (*n - 1* degrees of freedom)\n",
    "\n",
    "- TWO sample t-test:\n",
    "\n",
    "We compare the mean difference of two *independent samples* to a concrete value (*n1 + n2 - 1* degrees of freedom)\n",
    "\n",
    "- PAIRED t-test: \n",
    "\n",
    "We compare the mean difference of two *dependent* or *paired samples* to a concrete value (*n - 1* degrees of freedom)\n",
    "\n",
    "- CORRELATION t-test:\n",
    "\n",
    "We compare *correlation coefficient* values to zero (*n - 2* degrees of freedom)\n",
    "\n",
    "- REGRESSION t-test:\n",
    "\n",
    "We compare *regression coefficient* values to zero"
   ]
  },
  {
   "cell_type": "code",
   "execution_count": null,
   "metadata": {
    "collapsed": true
   },
   "outputs": [],
   "source": []
  }
 ],
 "metadata": {
  "kernelspec": {
   "display_name": "Python 3",
   "language": "python",
   "name": "python3"
  },
  "language_info": {
   "codemirror_mode": {
    "name": "ipython",
    "version": 3
   },
   "file_extension": ".py",
   "mimetype": "text/x-python",
   "name": "python",
   "nbconvert_exporter": "python",
   "pygments_lexer": "ipython3",
   "version": "3.6.0"
  }
 },
 "nbformat": 4,
 "nbformat_minor": 2
}
