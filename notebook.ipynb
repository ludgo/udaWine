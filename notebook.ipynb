{
 "cells": [
  {
   "cell_type": "markdown",
   "metadata": {},
   "source": [
    "# Basic statistical methods walk-through with examples"
   ]
  },
  {
   "cell_type": "markdown",
   "metadata": {},
   "source": [
    "Keywords: central tendency, variance, normal distribution, z-test, t-test, correlation, regression, χ2-test, f-test, paradox"
   ]
  },
  {
   "cell_type": "markdown",
   "metadata": {},
   "source": [
    "## Objective"
   ]
  },
  {
   "cell_type": "markdown",
   "metadata": {},
   "source": [
    "In this document I walk through basic statistical methods, more or less discussed in depth. The purpose is neither to explain theoretical principles of statistics nor to come to a single finite solution for a single problem. Rather I express thoughts loudly, I fill gaps where I see a lack of information available and, most of all, I learn for myself how to use Python's available set of libraries for data analysis. The notebook does not follow strict IF-THEN reasoning about data and sometimes I add some information just to demonstrate a statistical method better."
   ]
  },
  {
   "cell_type": "markdown",
   "metadata": {},
   "source": [
    "## Let's get started"
   ]
  },
  {
   "cell_type": "code",
   "execution_count": 1,
   "metadata": {
    "collapsed": true
   },
   "outputs": [],
   "source": [
    "from itertools import combinations\n",
    "\n",
    "from hypothesis_testing import reject"
   ]
  },
  {
   "cell_type": "markdown",
   "metadata": {},
   "source": [
    "Import necessary python libraries for working with data, statistics and ML"
   ]
  },
  {
   "cell_type": "code",
   "execution_count": 2,
   "metadata": {
    "collapsed": true
   },
   "outputs": [],
   "source": [
    "%matplotlib inline\n",
    "from matplotlib import pyplot as plt\n",
    "import matplotlib\n",
    "matplotlib.style.use('ggplot')\n",
    "import seaborn as sns\n",
    "\n",
    "import numpy as np\n",
    "import pandas as pd\n",
    "\n",
    "from scipy import stats as st\n",
    "\n",
    "from sklearn.utils import shuffle\n",
    "from sklearn import linear_model, model_selection"
   ]
  },
  {
   "cell_type": "markdown",
   "metadata": {},
   "source": [
    "Load datasets"
   ]
  },
  {
   "cell_type": "code",
   "execution_count": 3,
   "metadata": {
    "collapsed": true
   },
   "outputs": [],
   "source": [
    "reds = pd.read_csv('./data/wineQualityReds.csv', index_col=0)\n",
    "whites = pd.read_csv('./data/wineQualityWhites.csv', index_col=0)"
   ]
  },
  {
   "cell_type": "markdown",
   "metadata": {},
   "source": [
    "Description of the data can be found [here](https://github.com/ludgo/udaWine/blob/master/data/Redirecting.txt). We are particularly interested in column descriptions:\n",
    "\n",
    "Input variables (based on physicochemical tests):\n",
    "   1. fixed acidity (tartaric acid - g / dm^3)\n",
    "   2. volatile acidity (acetic acid - g / dm^3)\n",
    "   3. citric acid (g / dm^3)\n",
    "   4. residual sugar (g / dm^3)\n",
    "   5. chlorides (sodium chloride - g / dm^3\n",
    "   6. free sulfur dioxide (mg / dm^3)\n",
    "   7. total sulfur dioxide (mg / dm^3)\n",
    "   8. density (g / cm^3)\n",
    "   9. pH\n",
    "   10. sulphates (potassium sulphate - g / dm3)\n",
    "   11. alcohol (% by volume)\n",
    "   \n",
    "Output variable (based on sensory data): \n",
    "   12. quality (score between 0 and 10)\n",
    "\n",
    "To get intuition about data available, we should look at some examples"
   ]
  },
  {
   "cell_type": "code",
   "execution_count": 4,
   "metadata": {
    "collapsed": false
   },
   "outputs": [
    {
     "name": "stdout",
     "output_type": "stream",
     "text": [
      "Red wines\n",
      "   fixed.acidity  volatile.acidity  citric.acid  residual.sugar  chlorides  \\\n",
      "1            7.4              0.70         0.00             1.9      0.076   \n",
      "2            7.8              0.88         0.00             2.6      0.098   \n",
      "3            7.8              0.76         0.04             2.3      0.092   \n",
      "4           11.2              0.28         0.56             1.9      0.075   \n",
      "5            7.4              0.70         0.00             1.9      0.076   \n",
      "\n",
      "   free.sulfur.dioxide  total.sulfur.dioxide  density    pH  sulphates  \\\n",
      "1                 11.0                  34.0   0.9978  3.51       0.56   \n",
      "2                 25.0                  67.0   0.9968  3.20       0.68   \n",
      "3                 15.0                  54.0   0.9970  3.26       0.65   \n",
      "4                 17.0                  60.0   0.9980  3.16       0.58   \n",
      "5                 11.0                  34.0   0.9978  3.51       0.56   \n",
      "\n",
      "   alcohol  quality  \n",
      "1      9.4        5  \n",
      "2      9.8        5  \n",
      "3      9.8        5  \n",
      "4      9.8        6  \n",
      "5      9.4        5  \n",
      "\n",
      "White wines\n",
      "   fixed.acidity  volatile.acidity  citric.acid  residual.sugar  chlorides  \\\n",
      "1            7.0              0.27         0.36            20.7      0.045   \n",
      "2            6.3              0.30         0.34             1.6      0.049   \n",
      "3            8.1              0.28         0.40             6.9      0.050   \n",
      "4            7.2              0.23         0.32             8.5      0.058   \n",
      "5            7.2              0.23         0.32             8.5      0.058   \n",
      "\n",
      "   free.sulfur.dioxide  total.sulfur.dioxide  density    pH  sulphates  \\\n",
      "1                 45.0                 170.0   1.0010  3.00       0.45   \n",
      "2                 14.0                 132.0   0.9940  3.30       0.49   \n",
      "3                 30.0                  97.0   0.9951  3.26       0.44   \n",
      "4                 47.0                 186.0   0.9956  3.19       0.40   \n",
      "5                 47.0                 186.0   0.9956  3.19       0.40   \n",
      "\n",
      "   alcohol  quality  \n",
      "1      8.8        6  \n",
      "2      9.5        6  \n",
      "3     10.1        6  \n",
      "4      9.9        6  \n",
      "5      9.9        6  \n"
     ]
    }
   ],
   "source": [
    "print('Red wines')\n",
    "print(reds.head())\n",
    "print()\n",
    "print('White wines')\n",
    "print(whites.head())"
   ]
  },
  {
   "cell_type": "markdown",
   "metadata": {},
   "source": [
    "We possess information that both datasets are polished and contain same parameters. That's why we can also join them. Note that the number of white wines is disproportional to the number of red wines"
   ]
  },
  {
   "cell_type": "code",
   "execution_count": 5,
   "metadata": {
    "collapsed": false
   },
   "outputs": [
    {
     "name": "stdout",
     "output_type": "stream",
     "text": [
      "   fixed.acidity  volatile.acidity  citric.acid  residual.sugar  chlorides  \\\n",
      "0            7.4              0.70         0.00             1.9      0.076   \n",
      "1            7.8              0.88         0.00             2.6      0.098   \n",
      "2            7.8              0.76         0.04             2.3      0.092   \n",
      "3           11.2              0.28         0.56             1.9      0.075   \n",
      "4            7.4              0.70         0.00             1.9      0.076   \n",
      "\n",
      "   free.sulfur.dioxide  total.sulfur.dioxide  density    pH  sulphates  \\\n",
      "0                 11.0                  34.0   0.9978  3.51       0.56   \n",
      "1                 25.0                  67.0   0.9968  3.20       0.68   \n",
      "2                 15.0                  54.0   0.9970  3.26       0.65   \n",
      "3                 17.0                  60.0   0.9980  3.16       0.58   \n",
      "4                 11.0                  34.0   0.9978  3.51       0.56   \n",
      "\n",
      "   alcohol  quality  \n",
      "0      9.4        5  \n",
      "1      9.8        5  \n",
      "2      9.8        5  \n",
      "3      9.8        6  \n",
      "4      9.4        5  \n"
     ]
    }
   ],
   "source": [
    "wines = pd.concat([reds,whites], ignore_index=True)\n",
    "print(wines.head())\n",
    "wines.to_csv('./data/wineQuality.csv')"
   ]
  },
  {
   "cell_type": "markdown",
   "metadata": {},
   "source": [
    "## Basic statistics"
   ]
  },
  {
   "cell_type": "markdown",
   "metadata": {},
   "source": [
    "We choose the quality column of integers. Then we can perform basic statistical operations"
   ]
  },
  {
   "cell_type": "code",
   "execution_count": 6,
   "metadata": {
    "collapsed": false
   },
   "outputs": [
    {
     "name": "stdout",
     "output_type": "stream",
     "text": [
      "All wines\n",
      "       fixed.acidity  volatile.acidity  citric.acid  residual.sugar  \\\n",
      "count    6497.000000       6497.000000  6497.000000     6497.000000   \n",
      "mean        7.215307          0.339666     0.318633        5.443235   \n",
      "std         1.296434          0.164636     0.145318        4.757804   \n",
      "min         3.800000          0.080000     0.000000        0.600000   \n",
      "25%         6.400000          0.230000     0.250000        1.800000   \n",
      "50%         7.000000          0.290000     0.310000        3.000000   \n",
      "75%         7.700000          0.400000     0.390000        8.100000   \n",
      "max        15.900000          1.580000     1.660000       65.800000   \n",
      "\n",
      "         chlorides  free.sulfur.dioxide  total.sulfur.dioxide      density  \\\n",
      "count  6497.000000          6497.000000           6497.000000  6497.000000   \n",
      "mean      0.056034            30.525319            115.744574     0.994697   \n",
      "std       0.035034            17.749400             56.521855     0.002999   \n",
      "min       0.009000             1.000000              6.000000     0.987110   \n",
      "25%       0.038000            17.000000             77.000000     0.992340   \n",
      "50%       0.047000            29.000000            118.000000     0.994890   \n",
      "75%       0.065000            41.000000            156.000000     0.996990   \n",
      "max       0.611000           289.000000            440.000000     1.038980   \n",
      "\n",
      "                pH    sulphates      alcohol      quality  \n",
      "count  6497.000000  6497.000000  6497.000000  6497.000000  \n",
      "mean      3.218501     0.531268    10.491801     5.818378  \n",
      "std       0.160787     0.148806     1.192712     0.873255  \n",
      "min       2.720000     0.220000     8.000000     3.000000  \n",
      "25%       3.110000     0.430000     9.500000     5.000000  \n",
      "50%       3.210000     0.510000    10.300000     6.000000  \n",
      "75%       3.320000     0.600000    11.300000     6.000000  \n",
      "max       4.010000     2.000000    14.900000     9.000000  \n"
     ]
    }
   ],
   "source": [
    "print('All wines')\n",
    "print(wines.describe())"
   ]
  },
  {
   "cell_type": "code",
   "execution_count": 7,
   "metadata": {
    "collapsed": false
   },
   "outputs": [
    {
     "name": "stdout",
     "output_type": "stream",
     "text": [
      "Wine quality\n",
      "\n",
      "Worst wine (minimum): 3\n",
      "Best wine (maximum): 9\n",
      "Average wine (mean): 5.818377712790519\n",
      "Middle wine (median): 6.0\n",
      "Most frequent wine (mode): [6]\n"
     ]
    }
   ],
   "source": [
    "quality = wines['quality'].copy().reset_index(drop=True)\n",
    "\n",
    "print('Wine quality')\n",
    "print()\n",
    "\n",
    "minimum = quality.min()\n",
    "print('Worst wine (minimum): {}'.format(minimum))\n",
    "\n",
    "maximum = quality.max()\n",
    "print('Best wine (maximum): {}'.format(maximum))\n",
    "\n",
    "mean = quality.mean()\n",
    "print('Average wine (mean): {}'.format(mean))\n",
    "\n",
    "median = quality.median()\n",
    "print('Middle wine (median): {}'.format(median))\n",
    "\n",
    "mode = quality.mode()\n",
    "print('Most frequent wine (mode): {}'.format(mode.values))"
   ]
  },
  {
   "cell_type": "markdown",
   "metadata": {},
   "source": [
    "We could continue, looking at concrete quartiles etc. ... However there is a built-in pandas' function to help us"
   ]
  },
  {
   "cell_type": "markdown",
   "metadata": {},
   "source": [
    "## Normal distribution"
   ]
  },
  {
   "cell_type": "markdown",
   "metadata": {},
   "source": [
    "Next we refer to wines as if they were collected at a single wine competition. Following part works with white wines only.\n",
    "\n",
    "We have already seen an example of sample standard deviation before. Now we continue with density"
   ]
  },
  {
   "cell_type": "code",
   "execution_count": 8,
   "metadata": {
    "collapsed": false
   },
   "outputs": [
    {
     "name": "stdout",
     "output_type": "stream",
     "text": [
      "Sample standard deviation: 0.0029909069169369385\n",
      "Degrees of freedom: n - 1\n"
     ]
    }
   ],
   "source": [
    "density = shuffle(whites['density'].copy()).reset_index(drop=True)\n",
    "\n",
    "std = density.std()\n",
    "print('Sample standard deviation: {}'.format(std))\n",
    "print('Degrees of freedom: n - 1')"
   ]
  },
  {
   "cell_type": "markdown",
   "metadata": {},
   "source": [
    "Imagine that the wines taking part at the competition would be all existing wines in the world. Thus they would be the entire population and we could calculate population standard deviation. We do not apply [Bessel's correction](https://en.wikipedia.org/wiki/Bessel's_correction) thereby the value is smaller"
   ]
  },
  {
   "cell_type": "code",
   "execution_count": 9,
   "metadata": {
    "collapsed": false
   },
   "outputs": [
    {
     "name": "stdout",
     "output_type": "stream",
     "text": [
      "Population standard deviation: 0.0029906015821480328\n",
      "Degrees of freedom: n\n"
     ]
    }
   ],
   "source": [
    "popstd = density.std(ddof=0)\n",
    "print('Population standard deviation: {}'.format(popstd))\n",
    "print('Degrees of freedom: n')"
   ]
  },
  {
   "cell_type": "markdown",
   "metadata": {},
   "source": [
    "This is certainly not necessarily true because we know that we did not collected all wines from all over the world. As often, visualization might be helpful. We have about 4900 white wines so that **sqrt(number_of_measurements)** = appr. 69 will be number of bins. But wait, is this really what statisticians do? To be more precise, we use rather [Freedman–Diaconis rule](https://en.wikipedia.org/wiki/Freedman%E2%80%93Diaconis_rule)"
   ]
  },
  {
   "cell_type": "code",
   "execution_count": 10,
   "metadata": {
    "collapsed": false
   },
   "outputs": [
    {
     "data": {
      "text/plain": [
       "(array([   9.,    5.,   23.,   66.,  155.,  164.,  242.,  272.,  293.,\n",
       "         331.,  290.,  342.,  264.,  280.,  284.,  237.,  318.,  182.,\n",
       "         182.,  162.,  187.,  236.,  117.,   86.,   76.,   61.,   13.,\n",
       "          10.,    4.,    2.,    2.,    0.,    0.,    0.,    0.,    0.,\n",
       "           0.,    0.,    0.,    0.,    0.,    0.,    0.,    0.,    0.,\n",
       "           2.,    0.,    0.,    0.,    0.,    0.,    0.,    0.,    0.,\n",
       "           0.,    0.,    0.,    0.,    0.,    0.,    0.,    0.,    0.,\n",
       "           0.,    0.,    0.,    0.,    0.,    0.,    0.,    0.,    0.,\n",
       "           0.,    0.,    0.,    0.,    0.,    0.,    0.,    0.,    0.,\n",
       "           0.,    0.,    0.,    0.,    0.,    0.,    0.,    0.,    0.,\n",
       "           0.,    0.,    0.,    0.,    0.,    0.,    0.,    0.,    0.,\n",
       "           0.,    1.]),\n",
       " array([ 0.98711   ,  0.98762356,  0.98813713,  0.98865069,  0.98916426,\n",
       "         0.98967782,  0.99019139,  0.99070495,  0.99121851,  0.99173208,\n",
       "         0.99224564,  0.99275921,  0.99327277,  0.99378634,  0.9942999 ,\n",
       "         0.99481347,  0.99532703,  0.99584059,  0.99635416,  0.99686772,\n",
       "         0.99738129,  0.99789485,  0.99840842,  0.99892198,  0.99943554,\n",
       "         0.99994911,  1.00046267,  1.00097624,  1.0014898 ,  1.00200337,\n",
       "         1.00251693,  1.0030305 ,  1.00354406,  1.00405762,  1.00457119,\n",
       "         1.00508475,  1.00559832,  1.00611188,  1.00662545,  1.00713901,\n",
       "         1.00765257,  1.00816614,  1.0086797 ,  1.00919327,  1.00970683,\n",
       "         1.0102204 ,  1.01073396,  1.01124752,  1.01176109,  1.01227465,\n",
       "         1.01278822,  1.01330178,  1.01381535,  1.01432891,  1.01484248,\n",
       "         1.01535604,  1.0158696 ,  1.01638317,  1.01689673,  1.0174103 ,\n",
       "         1.01792386,  1.01843743,  1.01895099,  1.01946455,  1.01997812,\n",
       "         1.02049168,  1.02100525,  1.02151881,  1.02203238,  1.02254594,\n",
       "         1.0230595 ,  1.02357307,  1.02408663,  1.0246002 ,  1.02511376,\n",
       "         1.02562733,  1.02614089,  1.02665446,  1.02716802,  1.02768158,\n",
       "         1.02819515,  1.02870871,  1.02922228,  1.02973584,  1.03024941,\n",
       "         1.03076297,  1.03127653,  1.0317901 ,  1.03230366,  1.03281723,\n",
       "         1.03333079,  1.03384436,  1.03435792,  1.03487149,  1.03538505,\n",
       "         1.03589861,  1.03641218,  1.03692574,  1.03743931,  1.03795287,\n",
       "         1.03846644,  1.03898   ]),\n",
       " <a list of 101 Patch objects>)"
      ]
     },
     "execution_count": 10,
     "metadata": {},
     "output_type": "execute_result"
    },
    {
     "data": {
      "image/png": "[encoded data removed]",
      "text/plain": [
       "<matplotlib.figure.Figure at 0x21c64df1f28>"
      ]
     },
     "metadata": {},
     "output_type": "display_data"
    }
   ],
   "source": [
    "plt.hist(density, bins='fd', color='maroon')"
   ]
  },
  {
   "cell_type": "markdown",
   "metadata": {},
   "source": [
    "For simplicity we remove outliers"
   ]
  },
  {
   "cell_type": "code",
   "execution_count": 11,
   "metadata": {
    "collapsed": false
   },
   "outputs": [
    {
     "data": {
      "text/plain": [
       "(array([  78.,  154.,  187.,  224.,  271.,  298.,  318.,  284.,  351.,\n",
       "         293.,  241.,  273.,  237.,  315.,  184.,  178.,  162.,  186.,\n",
       "         204.,  145.,   82.,   81.,   56.]),\n",
       " array([ 0.98876   ,  0.98926478,  0.98976957,  0.99027435,  0.99077913,\n",
       "         0.99128391,  0.9917887 ,  0.99229348,  0.99279826,  0.99330304,\n",
       "         0.99380783,  0.99431261,  0.99481739,  0.99532217,  0.99582696,\n",
       "         0.99633174,  0.99683652,  0.9973413 ,  0.99784609,  0.99835087,\n",
       "         0.99885565,  0.99936043,  0.99986522,  1.00037   ]),\n",
       " <a list of 23 Patch objects>)"
      ]
     },
     "execution_count": 11,
     "metadata": {},
     "output_type": "execute_result"
    },
    {
     "data": {
      "image/png": "[encoded data removed]",
      "text/plain": [
       "<matplotlib.figure.Figure at 0x21c64df1518>"
      ]
     },
     "metadata": {},
     "output_type": "display_data"
    }
   ],
   "source": [
    "density = pd.Series(st.trimboth(density, proportiontocut=.01))\n",
    "\n",
    "plt.hist(density, bins='fd', color='maroon')"
   ]
  },
  {
   "cell_type": "markdown",
   "metadata": {},
   "source": [
    "It seems that the density may fall into normal distribution. It would be strange just to say it is a normally distributed variable though. Fortunately, we know Central Limit Theorem which tells us that if we take same-sized samples, their means approximate normal distribution whether the population itself is normal or skewed"
   ]
  },
  {
   "cell_type": "code",
   "execution_count": 12,
   "metadata": {
    "collapsed": false
   },
   "outputs": [
    {
     "data": {
      "text/plain": [
       "(array([  4.,   3.,   7.,  18.,  17.,  23.,  19.,   9.]),\n",
       " array([ 0.99306375,  0.99325535,  0.99344695,  0.99363855,  0.99383016,\n",
       "         0.99402176,  0.99421336,  0.99440496,  0.99459656]),\n",
       " <a list of 8 Patch objects>)"
      ]
     },
     "execution_count": 12,
     "metadata": {},
     "output_type": "execute_result"
    },
    {
     "data": {
      "image/png": "[encoded data removed]",
      "text/plain": [
       "<matplotlib.figure.Figure at 0x21c69eb67b8>"
      ]
     },
     "metadata": {},
     "output_type": "display_data"
    }
   ],
   "source": [
    "samples = []\n",
    "samplesize = 64\n",
    "nbins = int(samplesize**0.5)\n",
    "\n",
    "for i in range(100):\n",
    "    samples.append(density.sample(samplesize).mean())\n",
    "samples = pd.Series(samples)\n",
    "plt.hist(samples, bins=nbins, color='maroon')"
   ]
  },
  {
   "cell_type": "markdown",
   "metadata": {},
   "source": [
    "We want to transform values to such a normal distribution that it has mean 0 and standard deviation 1. Initially, we need z-scores of the values. Z-score tells us how many standard deviations a value stands from the mean. We say we standardized the distribution. Plot is as follows"
   ]
  },
  {
   "cell_type": "code",
   "execution_count": 13,
   "metadata": {
    "collapsed": false
   },
   "outputs": [
    {
     "data": {
      "text/plain": [
       "(array([ 0.0687636 ,  0.0515727 ,  0.12033631,  0.30943621,  0.29224531,\n",
       "         0.39539072,  0.32662711,  0.15471811]),\n",
       " array([-2.77511863, -2.19341555, -1.61171246, -1.03000938, -0.44830629,\n",
       "         0.13339679,  0.71509988,  1.29680296,  1.87850605]),\n",
       " <a list of 8 Patch objects>)"
      ]
     },
     "execution_count": 13,
     "metadata": {},
     "output_type": "execute_result"
    },
    {
     "data": {
      "image/png": "[encoded data removed]",
      "text/plain": [
       "<matplotlib.figure.Figure at 0x21c69ed2128>"
      ]
     },
     "metadata": {},
     "output_type": "display_data"
    }
   ],
   "source": [
    "zscores = st.zscore(samples)\n",
    "plt.hist(zscores, bins=nbins, normed=1, color='maroon')"
   ]
  },
  {
   "cell_type": "markdown",
   "metadata": {},
   "source": [
    "Then population mean is same as sample mean"
   ]
  },
  {
   "cell_type": "code",
   "execution_count": 14,
   "metadata": {
    "collapsed": false
   },
   "outputs": [
    {
     "name": "stdout",
     "output_type": "stream",
     "text": [
      "0.9939778195312503\n"
     ]
    }
   ],
   "source": [
    "mean = samples.mean()\n",
    "print(mean)"
   ]
  },
  {
   "cell_type": "markdown",
   "metadata": {},
   "source": [
    "... and population standard deviation can be obtained by next formula. We call sample standard deviation also standard error"
   ]
  },
  {
   "cell_type": "code",
   "execution_count": 15,
   "metadata": {
    "collapsed": false
   },
   "outputs": [
    {
     "name": "stdout",
     "output_type": "stream",
     "text": [
      "0.003310397017089314\n"
     ]
    }
   ],
   "source": [
    "standardError = samples.std()\n",
    "popstd = standardError * len(samples)**0.5\n",
    "print(popstd)"
   ]
  },
  {
   "cell_type": "markdown",
   "metadata": {},
   "source": [
    "Ok. Something different again. In case the density does really copy normal distribution, we can ask different questions"
   ]
  },
  {
   "cell_type": "code",
   "execution_count": 16,
   "metadata": {
    "collapsed": false
   },
   "outputs": [
    {
     "name": "stdout",
     "output_type": "stream",
     "text": [
      "How many white wines at competition are at world top 20% ?\n",
      "1093\n",
      "How many white wines at competition are at world top 10% ?\n",
      "675\n",
      "How many white wines at competition are at world top 5% ?\n",
      "305\n",
      "How many white wines at competition are at world top 1% ?\n",
      "0\n"
     ]
    }
   ],
   "source": [
    "normDensity = st.zscore(density)\n",
    "\n",
    "for i in [.8, .9, .95, .99]:\n",
    "    print('How many white wines at competition are at world top {}% ?'.format(100-int(100*i)))\n",
    "    zcritical = st.norm.ppf(i)\n",
    "    print(len(normDensity[normDensity > zcritical]))"
   ]
  },
  {
   "cell_type": "markdown",
   "metadata": {},
   "source": [
    "## Z - test"
   ]
  },
  {
   "cell_type": "markdown",
   "metadata": {
    "collapsed": true
   },
   "source": [
    "In fact, dozens of competitions are held every wine season across many countries all over the world. From a huge amount of data, which can be considered to be the world wine population, imagine we know average competition white wine density is characterized by mean and standard deviation. An expert comes, points the numbers out and claims that the density at this competition was manipulated. He says somebody either poured water to increase wine density or added alcohol to decrease it, such that it influenced quality results.\n",
    "\n",
    "We can carry out two-tailed hypothesis testing to check it out. Now we consider all competition data to be a sample. Null hypothesis states expert's mean and competition's mean are equal, alternative hypothesis not equal"
   ]
  },
  {
   "cell_type": "code",
   "execution_count": 17,
   "metadata": {
    "collapsed": false
   },
   "outputs": [
    {
     "name": "stdout",
     "output_type": "stream",
     "text": [
      "Population mean: 0.996 -known-\n",
      "Population standard deviation: 0.002 -known-\n",
      "Sample mean: 0.9940043221574336\n",
      "Sample standard deviation: 0.002793556248393707 (We do not need this.)\n"
     ]
    }
   ],
   "source": [
    "popmean = .996\n",
    "print('Population mean: {} -known-'.format(popmean))\n",
    "popstd = .002\n",
    "print('Population standard deviation: {} -known-'.format(popstd))\n",
    "mean = density.mean()\n",
    "print('Sample mean: {}'.format(mean))\n",
    "std = density.std()\n",
    "print('Sample standard deviation: {} (We do not need this.)'.format(std))"
   ]
  },
  {
   "cell_type": "markdown",
   "metadata": {},
   "source": [
    "Then we test at different alpha levels"
   ]
  },
  {
   "cell_type": "code",
   "execution_count": 18,
   "metadata": {
    "collapsed": false
   },
   "outputs": [
    {
     "name": "stdout",
     "output_type": "stream",
     "text": [
      "Z-score: -0.9978389212831895\n",
      "The probability of null hypothesis is 31.835747349422448% so we\n",
      "do not reject null hypothesis at 95.0% confidence interval.\n",
      "do not reject null hypothesis at 99.0% confidence interval.\n",
      "do not reject null hypothesis at 99.5% confidence interval.\n"
     ]
    }
   ],
   "source": [
    "zscore = (mean - popmean) / popstd\n",
    "print('Z-score: {}'.format(zscore))\n",
    "\n",
    "pvalue = 2*st.norm.sf(abs(zscore))\n",
    "reject(pvalue)"
   ]
  },
  {
   "cell_type": "markdown",
   "metadata": {
    "collapsed": true
   },
   "source": [
    "Seems that 'the expert' was not right at all. However, do we know for sure that he was 100% wrong. No. What if he was right and we would have rejected null hypothesis? We would just show that density at this competition was different from the usual one at chosen confidence interval. Another problem is that the change itself does not always imply manipulation. To get a bit more confused, we have even not proved that density influences somehow the quality of wine, so that competition could be manipulated in this way without influence on results. Statistics brings us quite often to a complicated decision process and there is almost always something more to consider and to double check own errors.\n",
    "\n",
    "Here I will try to summarize types of z-tests:\n",
    "\n",
    "- single value z-test:\n",
    "\n",
    "We compare a concrete value to the corresponding population's parameter, namely for example mean, variance or proportion\n",
    "\n",
    "- difference value z-test:\n",
    "\n",
    "We compare a parameter between two populations, namely for example variance or proportion"
   ]
  },
  {
   "cell_type": "markdown",
   "metadata": {},
   "source": [
    "## T - test"
   ]
  },
  {
   "cell_type": "markdown",
   "metadata": {},
   "source": [
    "We continue with red wines, specifically how much alcohol they contain.\n",
    "\n",
    "For purpose of this section we model only small competition with 20 wines participating in"
   ]
  },
  {
   "cell_type": "code",
   "execution_count": 19,
   "metadata": {
    "collapsed": false
   },
   "outputs": [
    {
     "name": "stdout",
     "output_type": "stream",
     "text": [
      "0      9.4\n",
      "1      9.8\n",
      "2      9.8\n",
      "3      9.8\n",
      "4      9.4\n",
      "5      9.4\n",
      "6      9.4\n",
      "7     10.0\n",
      "8      9.5\n",
      "9     10.5\n",
      "10     9.2\n",
      "11    10.5\n",
      "12     9.9\n",
      "13     9.1\n",
      "14     9.2\n",
      "15     9.2\n",
      "16    10.5\n",
      "17     9.3\n",
      "18     9.0\n",
      "19     9.2\n",
      "Name: alcohol, dtype: float64\n"
     ]
    }
   ],
   "source": [
    "alcohol = reds['alcohol'].copy().reset_index(drop=True)[:20]\n",
    "print(alcohol)"
   ]
  },
  {
   "cell_type": "markdown",
   "metadata": {},
   "source": [
    "Next, we are going to react to the suggestion that the competition was manipulated by systematically adding alcohol to wines, assuming known population mean at similar competitions.\n",
    "\n",
    "We perform one-tailed t-test. Null hypothesis states the percentage of alcohol is equal or less than at similar competitions, alternative hypothesis greater than"
   ]
  },
  {
   "cell_type": "code",
   "execution_count": 20,
   "metadata": {
    "collapsed": false
   },
   "outputs": [
    {
     "name": "stdout",
     "output_type": "stream",
     "text": [
      "Population mean: 9.8 -known-\n",
      "Population standard deviation: -unknown-\n",
      "Sample mean: 9.605\n",
      "Sample standard deviation: 0.4762518130922803\n"
     ]
    }
   ],
   "source": [
    "popmean = 9.8\n",
    "print('Population mean: {} -known-'.format(popmean))\n",
    "print('Population standard deviation: -unknown-')\n",
    "mean = alcohol.mean()\n",
    "print('Sample mean: {}'.format(mean))\n",
    "std = alcohol.std()\n",
    "print('Sample standard deviation: {}'.format(std))"
   ]
  },
  {
   "cell_type": "markdown",
   "metadata": {},
   "source": [
    "Then we test at different alpha levels"
   ]
  },
  {
   "cell_type": "code",
   "execution_count": 21,
   "metadata": {
    "collapsed": false
   },
   "outputs": [
    {
     "name": "stdout",
     "output_type": "stream",
     "text": [
      "T-score: -1.8311038136792233\n",
      "The probability of null hypothesis is 4.14069212922548% so we\n",
      "reject null hypothesis at 95.0% confidence interval.\n",
      "do not reject null hypothesis at 99.0% confidence interval.\n",
      "do not reject null hypothesis at 99.5% confidence interval.\n"
     ]
    }
   ],
   "source": [
    "#tscore = (mean - popmean) / std * len(alcohol)**0.5\n",
    "tscore, twosided_pvalue = st.ttest_1samp(alcohol, popmean)\n",
    "print('T-score: {}'.format(tscore))\n",
    "\n",
    "pvalue = twosided_pvalue / 2\n",
    "reject(pvalue)"
   ]
  },
  {
   "cell_type": "markdown",
   "metadata": {},
   "source": [
    "Here I will try to summarize types of t-tests:\n",
    "\n",
    "- ONE sample t-test:\n",
    "\n",
    "We compare the mean of *single sample* to a concrete value (*n - 1* degrees of freedom)\n",
    "\n",
    "- TWO sample t-test:\n",
    "\n",
    "We compare the mean difference of two *independent samples* to a concrete value (*n1 + n2 - 1* degrees of freedom)\n",
    "\n",
    "- PAIRED t-test: \n",
    "\n",
    "We compare the mean difference of two *dependent* or *paired samples* to a concrete value (*n - 1* degrees of freedom)\n",
    "\n",
    "- CORRELATION t-test:\n",
    "\n",
    "We compare *correlation coefficient* values to zero (*n - 2* degrees of freedom)\n",
    "\n",
    "- REGRESSION t-test:\n",
    "\n",
    "We compare *regression coefficient* values to zero"
   ]
  },
  {
   "cell_type": "markdown",
   "metadata": {},
   "source": [
    "## Correlation"
   ]
  },
  {
   "cell_type": "markdown",
   "metadata": {},
   "source": [
    "In this section we help our minds with processing all the difficulties in the way that we choose relationship of alcohol and density. Seeing density values and with basic information about ethanol density around 0.79 g / dm^3, a layman would say: \"More alcohol wine contains, less dense it is.\" We continue with basic plotting"
   ]
  },
  {
   "cell_type": "code",
   "execution_count": 22,
   "metadata": {
    "collapsed": false
   },
   "outputs": [
    {
     "data": {
      "text/plain": [
       "<seaborn.axisgrid.JointGrid at 0x21c6a08b0b8>"
      ]
     },
     "execution_count": 22,
     "metadata": {},
     "output_type": "execute_result"
    },
    {
     "data": {
      "image/png": "[encoded data removed]",
      "text/plain": [
       "<matplotlib.figure.Figure at 0x21c6a08bc50>"
      ]
     },
     "metadata": {},
     "output_type": "display_data"
    }
   ],
   "source": [
    "two = reds[['alcohol','density']].copy()\n",
    "\n",
    "sns.jointplot(x='alcohol', y='density', data=two, size=10, alpha=.25, color='k', marker='.')"
   ]
  },
  {
   "cell_type": "markdown",
   "metadata": {},
   "source": [
    "As always such rule of thumb reasoning is not what we exactly want even though it might be true at a glance. Maybe it is the best time to put some definitions in place, to find out what possibilities we have for correlation coefficient.\n",
    "\n",
    "- Pearson's correlation coefficient:\n",
    "\n",
    "Ratio of the covariance between two variables and the product of standard deviations is a common measure of linear dependency between variables\n",
    "\n",
    "- Spearman's correlation coefficient:\n",
    "\n",
    "A measure of monotonic dependency between variables, not necessarily linear, which belongs to so called rank correlations. Ranks approach correlation differently. For instance, it says if both variables are correlated at higher ranks etc. As we will see later, it tends to be more resistant to outliers. Ranks also make ideal Spearman however monotonic, thus non-parametric\n",
    "\n",
    "- Kendall's tau:\n",
    "\n",
    "Another rank correlation coefficient. In particular, it reflects a minimum number of neighbour swaps to switch between orderings\n",
    "\n",
    "Here is an interesting [paper](http://geoinfo.amu.edu.pl/qg/archives/2011/QG302_087-093.pdf) on correlation coefficients from which we can conclude two statements:\n",
    "\n",
    "1. Kendall gives similar performance to Spearman with slightly better results\n",
    "\n",
    "2. Significant Spearman may imply significant or insignificant Pearson, not vice versa (logically since linearity is a subset of monotonicity)\n",
    "\n",
    "So theoretically motivated we are prepared to calculate all of them. But first we plot the relationship also for ranks"
   ]
  },
  {
   "cell_type": "code",
   "execution_count": 23,
   "metadata": {
    "collapsed": false
   },
   "outputs": [
    {
     "data": {
      "text/plain": [
       "<seaborn.axisgrid.JointGrid at 0x21c6a0cd438>"
      ]
     },
     "execution_count": 23,
     "metadata": {},
     "output_type": "execute_result"
    },
    {
     "data": {
      "image/png": "[encoded data removed]",
      "text/plain": [
       "<matplotlib.figure.Figure at 0x21c6a651780>"
      ]
     },
     "metadata": {},
     "output_type": "display_data"
    }
   ],
   "source": [
    "sns.jointplot(x=st.rankdata(two['alcohol']), y=st.rankdata(two['density']), size=10, alpha=.25, color='k', marker='.')"
   ]
  },
  {
   "cell_type": "markdown",
   "metadata": {},
   "source": [
    "Two notes here. We see how ranking method reduced outliers visually (even though, to be honest, they were not so obvious before too). After seeing the second plot, linear dependency does not come out to be so clear at the first sight.\n",
    "\n",
    "Finally, we calculate coefficients and proceed with t-test. Null hypothesis states variables are not correlated, alternative hypothesis correlated somehow"
   ]
  },
  {
   "cell_type": "code",
   "execution_count": 24,
   "metadata": {
    "collapsed": false
   },
   "outputs": [
    {
     "name": "stdout",
     "output_type": "stream",
     "text": [
      "Pearson: -0.4961797702417011\n",
      "The probability of null hypothesis is 3.938835339991827e-98% so we\n",
      "reject null hypothesis at 95.0% confidence interval.\n",
      "reject null hypothesis at 99.0% confidence interval.\n",
      "reject null hypothesis at 99.5% confidence interval.\n",
      "\n",
      "Spearman: -0.46244457892711605\n",
      "The probability of null hypothesis is 1.5597086534958758e-83% so we\n",
      "reject null hypothesis at 95.0% confidence interval.\n",
      "reject null hypothesis at 99.0% confidence interval.\n",
      "reject null hypothesis at 99.5% confidence interval.\n",
      "\n",
      "Kendall: -0.3297539626741849\n",
      "The probability of null hypothesis is 6.924366145922608e-85% so we\n",
      "reject null hypothesis at 95.0% confidence interval.\n",
      "reject null hypothesis at 99.0% confidence interval.\n",
      "reject null hypothesis at 99.5% confidence interval.\n"
     ]
    }
   ],
   "source": [
    "pearson_r, pearson_p = st.pearsonr(two['alcohol'], two['density'])\n",
    "print(\"Pearson: {}\".format(pearson_r))\n",
    "reject(pearson_p)\n",
    "\n",
    "print()\n",
    "\n",
    "spearman_r, spearman_p = st.spearmanr(two['alcohol'], two['density'])\n",
    "print(\"Spearman: {}\".format(spearman_r))\n",
    "reject(spearman_p)\n",
    "\n",
    "print()\n",
    "\n",
    "kendall_r, kendall_p = st.kendalltau(two['alcohol'], two['density'])\n",
    "print(\"Kendall: {}\".format(kendall_r))\n",
    "reject(kendall_p)"
   ]
  },
  {
   "cell_type": "markdown",
   "metadata": {},
   "source": [
    "Huh. Everything indicates our two variables are really dependent. Spearman suggests that the dependency is monotonic, Pearson that even linear and negative sign of correlation coefficient negative relationship. Indeed, correlation seems to be evident, but variables still not extraordinarily tight. On the other hand, we obtained such results even without thinking about outliers which could have loosened the correlation easily. Besides remember, extremely low probability of null hypothesis does not indicate strong correlation, but refuses significantly that variables are not correlated at all"
   ]
  },
  {
   "cell_type": "markdown",
   "metadata": {
    "collapsed": true
   },
   "source": [
    "## Regression"
   ]
  },
  {
   "cell_type": "markdown",
   "metadata": {},
   "source": [
    "Coming from correlation to regression visualisation, it would be pretty boring just to draw a line. Since linear regression is also one of the widely used techniques of machine learning (even by people who do not know what machine learning is), we are changing our object of interest now. We can rather run basic machine learning algorithm and draw a corresponding line for test set only. We simply divide data into train and test set by standard ratio 80:20 and visualize"
   ]
  },
  {
   "cell_type": "code",
   "execution_count": 25,
   "metadata": {
    "collapsed": false
   },
   "outputs": [
    {
     "name": "stdout",
     "output_type": "stream",
     "text": [
      "Slope: [[-0.00086441]]\n",
      "Intercept: [ 1.00576821]\n",
      "Mean squared error: 2.508685875654146e-06\n",
      "Variance score: 0.26281685960611756\n"
     ]
    },
    {
     "data": {
      "text/plain": [
       "[<matplotlib.lines.Line2D at 0x21c6abc96d8>]"
      ]
     },
     "execution_count": 25,
     "metadata": {},
     "output_type": "execute_result"
    },
    {
     "data": {
      "image/png": "[encoded data removed]",
      "text/plain": [
       "<matplotlib.figure.Figure at 0x21c6abd0eb8>"
      ]
     },
     "metadata": {},
     "output_type": "display_data"
    }
   ],
   "source": [
    "train_set, test_set = model_selection.train_test_split(two, test_size=.2)\n",
    "\n",
    "X_train = train_set['alcohol'].values.reshape(len(train_set), 1)\n",
    "X_test = test_set['alcohol'].values.reshape(len(test_set), 1)\n",
    "\n",
    "y_train = train_set['density'].values.reshape(len(train_set), 1)\n",
    "y_test = test_set['density'].values.reshape(len(test_set), 1)\n",
    "\n",
    "regr = linear_model.LinearRegression()\n",
    "regr.fit(X_train, y_train)\n",
    "\n",
    "print('Slope: {}'.format(regr.coef_))\n",
    "print('Intercept: {}'.format(regr.intercept_ ))\n",
    "print('Mean squared error: {}'.format(np.mean((regr.predict(X_test) - y_test) ** 2)))\n",
    "print('Variance score: {}'.format(regr.score(X_test, y_test)))\n",
    "\n",
    "plt.scatter(X_test, y_test, color='black', alpha=.25)\n",
    "plt.plot(X_test, regr.predict(X_test), color='blue', linewidth=3)"
   ]
  },
  {
   "cell_type": "markdown",
   "metadata": {},
   "source": [
    "What both correlation and regression (speaking about linear regression) have in common is that they use Pearson. Note that by correlation we measure dependency between variables in general whereas by regression dependency of one variable on another"
   ]
  },
  {
   "cell_type": "markdown",
   "metadata": {},
   "source": [
    "## χ2 - test"
   ]
  },
  {
   "cell_type": "markdown",
   "metadata": {},
   "source": [
    "We model a smaller wine competition again, on which we are going to perform non-parametric testing. We are going to look specifically at the amount of citric acid in the volume. Null hypothesis states both red and white wines contain same proportion of the examined substance, alternative hypothesis different. We pretend some experts have said there is some low citric acid amount wine can contain and not being "
   ]
  },
  {
   "cell_type": "code",
   "execution_count": 26,
   "metadata": {
    "collapsed": false
   },
   "outputs": [
    {
     "name": "stdout",
     "output_type": "stream",
     "text": [
      "Contingency table for observed frequencies:\n",
      "          red  white\n",
      "positive   38    157\n",
      "negative   15      6\n"
     ]
    }
   ],
   "source": [
    "red_n = int(len(reds)/30)\n",
    "white_n = int(len(whites)/30)\n",
    "redCitric = reds['citric.acid'].copy().reset_index(drop=True)[:red_n]\n",
    "whiteCitric = whites['citric.acid'].copy().reset_index(drop=True)[:white_n]\n",
    "\n",
    "cond_val = .05\n",
    "\n",
    "redPos = len( redCitric[ redCitric > cond_val ] )\n",
    "redNeg = len( redCitric[ redCitric <= cond_val ] )\n",
    "assert redPos + redNeg == len( redCitric )\n",
    "\n",
    "whitePos = len( whiteCitric[ whiteCitric > cond_val ] )\n",
    "whiteNeg = len( whiteCitric[ whiteCitric <= cond_val ] )\n",
    "assert whitePos + whiteNeg == len( whiteCitric )\n",
    "\n",
    "table_obs = pd.DataFrame({ 'red' : pd.Series([redPos, redNeg], index=['positive', 'negative']),\n",
    "                    'white' : pd.Series([whitePos, whiteNeg], index=['positive', 'negative']) })\n",
    "\n",
    "print('Contingency table for observed frequencies:')\n",
    "print(table_obs)"
   ]
  },
  {
   "cell_type": "markdown",
   "metadata": {},
   "source": [
    "We use chi-square test for independence"
   ]
  },
  {
   "cell_type": "code",
   "execution_count": 27,
   "metadata": {
    "collapsed": false
   },
   "outputs": [
    {
     "name": "stdout",
     "output_type": "stream",
     "text": [
      "Contingency table for expected frequencies:\n",
      "                red       white\n",
      "positive  47.847222  147.152778\n",
      "negative   5.152778   15.847222\n",
      "\n",
      "Degrees of freedom: 1\n",
      "Chi-score: 24.889089472860743\n",
      "The probability of null hypothesis is 6.0725131276391435e-05% so we\n",
      "reject null hypothesis at 95.0% confidence interval.\n",
      "reject null hypothesis at 99.0% confidence interval.\n",
      "reject null hypothesis at 99.5% confidence interval.\n"
     ]
    }
   ],
   "source": [
    "chiscore, pvalue, df, expected = st.chi2_contingency(table_obs)\n",
    "\n",
    "table_exp = pd.DataFrame(expected, columns=['red', 'white'], index=['positive', 'negative'])\n",
    "print('Contingency table for expected frequencies:')\n",
    "print(table_exp)\n",
    "\n",
    "print()\n",
    "print('Degrees of freedom: {}'.format(df))\n",
    "print('Chi-score: {}'.format(chiscore))\n",
    "reject(pvalue)"
   ]
  },
  {
   "cell_type": "markdown",
   "metadata": {},
   "source": [
    "In conclusion we claim white wines do not contain as much citric acid as red wines. Note that table cells are filled with some numbers slightly greater than minimal required ones to run similar test. With even smaller numbers, test results would tend to be really strict either rejecting or not, but we would have doubts about relying on such tests.\n",
    "\n",
    "Here I will try to summarize types of χ2-tests:\n",
    "\n",
    "- Independence:\n",
    "\n",
    "We check if two classification parameters of the population are independent\n",
    "\n",
    "- Goodness of fit:\n",
    "\n",
    "We check if the sample was selected from a population with a given distribution\n",
    "\n",
    "- Homogeneity:\n",
    "\n",
    "We check if more populations are homogeneous at a concrete parameter"
   ]
  },
  {
   "cell_type": "markdown",
   "metadata": {
    "collapsed": true
   },
   "source": [
    "## F - test"
   ]
  },
  {
   "cell_type": "markdown",
   "metadata": {
    "collapsed": true
   },
   "source": [
    "For those who suffer from nightmares only after thinking about [homoscedasticity](https://en.wikipedia.org/wiki/Homoscedasticity), I am sorry. We are going to make one-way ANalysis Of VAriance done. For the first time we plan to use both red and white wines. White wines consist of more than two times more entries so that we build 3 samples of the red wines size. We pretend those are 3 independent samples. Null hypothesis states all 3 samples contain on average same amount of alcohol, alternative hypothesis they do not"
   ]
  },
  {
   "cell_type": "code",
   "execution_count": 28,
   "metadata": {
    "collapsed": false
   },
   "outputs": [
    {
     "name": "stdout",
     "output_type": "stream",
     "text": [
      "Sample 1: size: 1599, mean 10.422983114446502, variance: 1.1356473950004693\n",
      "Sample 2: size: 1599, mean 10.285240775484679, variance: 1.2632989250947537\n",
      "Sample 3: size: 1599, mean 10.383614759224491, variance: 1.3654134585054352\n"
     ]
    }
   ],
   "source": [
    "n = len(reds)\n",
    "sample1 = reds['alcohol'].copy()\n",
    "print('Sample 1: size: {}, mean {}, variance: {}'.format(len(sample1), sample1.mean(), sample1.var()))\n",
    "sample2 = whites['alcohol'][:n].copy()\n",
    "print('Sample 2: size: {}, mean {}, variance: {}'.format(len(sample2), sample2.mean(), sample2.var()))\n",
    "sample3 = whites['alcohol'][n:2*n].copy()\n",
    "print('Sample 3: size: {}, mean {}, variance: {}'.format(len(sample3), sample3.mean(), sample3.var()))"
   ]
  },
  {
   "cell_type": "markdown",
   "metadata": {},
   "source": [
    "We see how sample sizes and variances are approximately same. Therefore we can continue"
   ]
  },
  {
   "cell_type": "code",
   "execution_count": 29,
   "metadata": {
    "collapsed": false
   },
   "outputs": [
    {
     "name": "stdout",
     "output_type": "stream",
     "text": [
      "F-score: 6.414133956372371\n",
      "The probability of null hypothesis is 0.1652332352325724% so we\n",
      "reject null hypothesis at 95.0% confidence interval.\n",
      "reject null hypothesis at 99.0% confidence interval.\n",
      "reject null hypothesis at 99.5% confidence interval.\n"
     ]
    }
   ],
   "source": [
    "fscore, pvalue = st.f_oneway(sample1, sample2, sample3)\n",
    "\n",
    "print('F-score: {}'.format(fscore))\n",
    "reject(pvalue)"
   ]
  },
  {
   "cell_type": "markdown",
   "metadata": {},
   "source": [
    "Although rejecting null hypotheses usually confirms what we 'want' to possibly show, it does not tell us much in this case. We have to run two-tailed t-tests for all pairs of samples to find out which one differs significantly"
   ]
  },
  {
   "cell_type": "code",
   "execution_count": 30,
   "metadata": {
    "collapsed": false
   },
   "outputs": [
    {
     "name": "stdout",
     "output_type": "stream",
     "text": [
      "T-score for sample number 1 and 2: \n",
      "The probability of null hypothesis is 0.038177338153704644% so we\n",
      "reject null hypothesis at 95.0% confidence interval.\n",
      "reject null hypothesis at 99.0% confidence interval.\n",
      "reject null hypothesis at 99.5% confidence interval.\n",
      "\n",
      "T-score for sample number 1 and 3: \n",
      "The probability of null hypothesis is 31.960403796430313% so we\n",
      "do not reject null hypothesis at 95.0% confidence interval.\n",
      "do not reject null hypothesis at 99.0% confidence interval.\n",
      "do not reject null hypothesis at 99.5% confidence interval.\n",
      "\n",
      "T-score for sample number 2 and 3: \n",
      "The probability of null hypothesis is 1.531134885651321% so we\n",
      "reject null hypothesis at 95.0% confidence interval.\n",
      "do not reject null hypothesis at 99.0% confidence interval.\n",
      "do not reject null hypothesis at 99.5% confidence interval.\n",
      "\n"
     ]
    }
   ],
   "source": [
    "dic = {'1':sample1, '2':sample2, '3':sample3}\n",
    "\n",
    "for c in combinations(dic.keys(), 2):\n",
    "    \n",
    "    first, second = dic[c[0]], dic[c[1]]\n",
    "    \n",
    "    tscore, pvalue = st.ttest_ind(first, second)\n",
    "    print('T-score for sample number {} and {}: '.format(c[0], c[1], tscore))\n",
    "    reject(pvalue)\n",
    "    \n",
    "    print()"
   ]
  },
  {
   "cell_type": "markdown",
   "metadata": {
    "collapsed": true
   },
   "source": [
    "The aim here was not to interpret results. But at least I mention that the difference in alcohol is not a wine color issue, at least by the previous test.\n",
    "\n",
    "Here I will try to summarize what (M)AN(C)OVA is and what distinguishes these tests:\n",
    "\n",
    "- one-way ANOVA:\n",
    "\n",
    "We compare a single continuous variable among 3 or more populations dependent on a single independent factor variable\n",
    "\n",
    "- two-way ANOVA:\n",
    "\n",
    "We compare a single continuous variable among 3 or more populations dependent on multiple independent factor variables\n",
    "\n",
    "- one-way ANCOVA:\n",
    "\n",
    "We compare a single continuous variable among 3 or more populations dependent on a single independent factor variable and its covariate\n",
    "\n",
    "- two-way ANCOVA:\n",
    "\n",
    "We compare a single continuous variable among 3 or more populations dependent on multiple independent factor variables and their covariates\n",
    "\n",
    "- one-way MANOVA:\n",
    "\n",
    "We compare multiple continuous variables among 3 or more populations dependent on a single independent factor variable\n",
    "\n",
    "- two-way MANOVA:\n",
    "\n",
    "We compare multiple continuous variables among 3 or more populations dependent on multiple independent factor variables\n",
    "\n",
    "- one-way MANCOVA:\n",
    "\n",
    "We compare multiple continuous variables among 3 or more populations dependent on a single independent factor variable and its covariate\n",
    "\n",
    "- two-way MANCOVA:\n",
    "\n",
    "We compare multiple continuous variables among 3 or more populations dependent on multiple independent factor variables and their covariates"
   ]
  },
  {
   "cell_type": "markdown",
   "metadata": {
    "collapsed": true
   },
   "source": [
    "## Conclusion"
   ]
  },
  {
   "cell_type": "markdown",
   "metadata": {
    "collapsed": true
   },
   "source": [
    "When dealing with statistics, we all are prone to make a mistake. Hopefully, I did not many of them in this document. Not only purely mathematical errors or badly understood concepts, but also data misinterpretation can lead to wrong explanations of the situation.\n",
    "\n",
    "Here I list some well-known real world cases which break our fundamental way of thinking:\n",
    "\n",
    "- [Simpson's paradox](https://en.wikipedia.org/wiki/Simpson%27s_paradox)\n",
    "\n",
    "The relationship of variables is reversed by adding another variable to our observation\n",
    "\n",
    "- [Lord's paradox](https://en.wikipedia.org/wiki/Lord%27s_paradox)\n",
    "\n",
    "Two different, not necessarily incorrect results after two different adjustments of the problem in terms of initial differences\n",
    "\n",
    "- Regression suppresion\n",
    "\n",
    "A covariate correlated to the predictor variable, but not correlated to the outcome may improve the fit"
   ]
  },
  {
   "cell_type": "code",
   "execution_count": null,
   "metadata": {
    "collapsed": true
   },
   "outputs": [],
   "source": []
  }
 ],
 "metadata": {
  "kernelspec": {
   "display_name": "Python 3",
   "language": "python",
   "name": "python3"
  },
  "language_info": {
   "codemirror_mode": {
    "name": "ipython",
    "version": 3
   },
   "file_extension": ".py",
   "mimetype": "text/x-python",
   "name": "python",
   "nbconvert_exporter": "python",
   "pygments_lexer": "ipython3",
   "version": "3.6.0"
  }
 },
 "nbformat": 4,
 "nbformat_minor": 2
}
